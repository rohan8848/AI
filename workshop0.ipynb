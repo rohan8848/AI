{
 "cells": [
  {
   "cell_type": "markdown",
   "id": "839720d8",
   "metadata": {},
   "source": [
    "# <font color='black'>4.1 Exercise on Functions</font>"
   ]
  },
  {
   "cell_type": "markdown",
   "id": "ea4eebc8",
   "metadata": {},
   "source": [
    "# Task - 1:\n",
    "Create a Python program that converts between different units of measurement.\n",
    "• The program should:\n",
    "1. Prompt the user to choose the type of conversion (e.g., length, weight, volume).\n",
    "2. Ask the user to input the value to be converted.\n",
    "3. Perform the conversion and display the result.\n",
    "4. Handle potential errors, such as invalid input or unsupported conversion types.\n",
    "• Requirements:\n",
    "1. Functions: Define at least one function to perform the conversion.\n",
    "2. Error Handling: Use try-except blocks to handle invalid input (e.g., non-numeric values).\n",
    "3. User Input: Prompt the user to select the conversion type and input the value.\n",
    "4. Docstrings: Include a docstring in your function to describe its purpose, parameters, and\n",
    "return value.\n",
    "• Conversion Options:\n",
    "1. Length:\n",
    "– Convert meters (m) to feet (ft).\n",
    "– Convert feet (ft) to meters (m).\n",
    "2. Weight:\n",
    "– Convert kilograms (kg) to pounds (lbs).\n",
    "– Convert pounds (lbs) to kilograms (kg).\n",
    "3. Volume:\n",
    "– Convert liters (L) to gallons (gal).\n",
    "– Convert gallons (gal) to liters (L)."
   ]
  },
  {
   "cell_type": "code",
   "execution_count": 2,
   "id": "d43b7d36",
   "metadata": {},
   "outputs": [
    {
     "name": "stdout",
     "output_type": "stream",
     "text": [
      "Unit Converter: Length, Weight, Volume\n",
      "1. Length (m <-> ft)\n",
      "2. Weight (kg <-> lbs)\n",
      "3. Volume (L <-> gal)\n",
      "Choose the type of conversion (1-3): 2\n",
      "Enter the value to convert: 65\n",
      "Enter the unit (e.g., m, ft, kg, lbs, L, gal): kg\n",
      "Converted value: 143.30 lbs\n"
     ]
    }
   ],
   "source": [
    "def convert_length(value, unit):\n",
    "    \"\"\"\n",
    "    Convert length between meters (m) and feet (ft).\n",
    "    :param value: The numerical value to convert.\n",
    "    :param unit: The unit of the input value ('m' for meters, 'ft' for feet).\n",
    "    :return: Converted value with appropriate unit.\n",
    "    \"\"\"\n",
    "    if unit == 'm':\n",
    "        return value * 3.28084, 'ft'\n",
    "    elif unit == 'ft':\n",
    "        return value / 3.28084, 'm'\n",
    "    else:\n",
    "        raise ValueError(\"Invalid unit for length conversion\")\n",
    "\n",
    "def convert_weight(value, unit):\n",
    "    \"\"\"\n",
    "    Convert weight between kilograms (kg) and pounds (lbs).\n",
    "    :param value: The numerical value to convert.\n",
    "    :param unit: The unit of the input value ('kg' for kilograms, 'lbs' for pounds).\n",
    "    :return: Converted value with appropriate unit.\n",
    "    \"\"\"\n",
    "    if unit == 'kg':\n",
    "        return value * 2.20462, 'lbs'\n",
    "    elif unit == 'lbs':\n",
    "        return value / 2.20462, 'kg'\n",
    "    else:\n",
    "        raise ValueError(\"Invalid unit for weight conversion\")\n",
    "\n",
    "def convert_volume(value, unit):\n",
    "    \"\"\"\n",
    "    Convert volume between liters (L) and gallons (gal).\n",
    "    :param value: The numerical value to convert.\n",
    "    :param unit: The unit of the input value ('L' for liters, 'gal' for gallons).\n",
    "    :return: Converted value with appropriate unit.\n",
    "    \"\"\"\n",
    "    if unit == 'L':\n",
    "        return value * 0.264172, 'gal'\n",
    "    elif unit == 'gal':\n",
    "        return value / 0.264172, 'L'\n",
    "    else:\n",
    "        raise ValueError(\"Invalid unit for volume conversion\")\n",
    "\n",
    "def main():\n",
    "    print(\"Unit Converter: Length, Weight, Volume\")\n",
    "    print(\"1. Length (m <-> ft)\")\n",
    "    print(\"2. Weight (kg <-> lbs)\")\n",
    "    print(\"3. Volume (L <-> gal)\")\n",
    "    \n",
    "    try:\n",
    "        choice = int(input(\"Choose the type of conversion (1-3): \"))\n",
    "        value = float(input(\"Enter the value to convert: \"))\n",
    "        unit = input(\"Enter the unit (e.g., m, ft, kg, lbs, L, gal): \").strip().lower()\n",
    "        \n",
    "        if choice == 1:\n",
    "            result, new_unit = convert_length(value, unit)\n",
    "        elif choice == 2:\n",
    "            result, new_unit = convert_weight(value, unit)\n",
    "        elif choice == 3:\n",
    "            result, new_unit = convert_volume(value, unit)\n",
    "        else:\n",
    "            print(\"Invalid choice. Please select 1, 2, or 3.\")\n",
    "            return\n",
    "        \n",
    "        print(f\"Converted value: {result:.2f} {new_unit}\")\n",
    "    except ValueError as e:\n",
    "        print(f\"Error: {e}. Please enter valid input.\")\n",
    "    except Exception as e:\n",
    "        print(f\"Unexpected error: {e}\")\n",
    "\n",
    "# Run the function inside Jupyter Notebook\n",
    "main()\n"
   ]
  },
  {
   "cell_type": "markdown",
   "id": "128454f1",
   "metadata": {},
   "source": [
    "# Task - 2:\n",
    "\n",
    "Create a Python program that performs various mathematical operations on a list of numbers\n",
    "\n",
    "• The Program should:\n",
    "1. Prompt the user to choose an operation (e.g., find the sum, average, maximum, or minimumof the numbers).\n",
    "2. Ask the user to input a list of numbers (separated by spaces).\n",
    "3. Perform the selected operation and display the result.\n",
    "4. Handle potential errors, such as invalid input or empty lists.\n",
    "\n",
    "• Requirements:\n",
    "1. Functions: Define at least one function for each operation (sum, average, maximum, mini-mum).\n",
    "2. Error Handling: Use try-except blocks to handle invalid input (e.g., non-numeric values orempty lists).\n",
    "3. User Input: Prompt the user to select the operation and input the list of numbers.\n",
    "4. Docstrings: Include a docstring in each function to describe its purpose, parameters, andreturn value."
   ]
  },
  {
   "cell_type": "code",
   "execution_count": 3,
   "id": "793f62e7",
   "metadata": {},
   "outputs": [
    {
     "name": "stdout",
     "output_type": "stream",
     "text": [
      "Mathematical Operations on a List of Numbers\n",
      "1. Sum\n",
      "2. Average\n",
      "3. Maximum\n",
      "4. Minimum\n",
      "Choose an operation (1-4): 1\n",
      "Enter a list of numbers separated by spaces: 1 2 3 4\n",
      "Result: 10.0\n"
     ]
    }
   ],
   "source": [
    "def calculate_sum(numbers):\n",
    "    \"\"\"\n",
    "    Calculate the sum of a list of numbers.\n",
    "    :param numbers: List of numerical values.\n",
    "    :return: Sum of the numbers.\n",
    "    \"\"\"\n",
    "    return sum(numbers)\n",
    "\n",
    "def calculate_average(numbers):\n",
    "    \"\"\"\n",
    "    Calculate the average of a list of numbers.\n",
    "    :param numbers: List of numerical values.\n",
    "    :return: Average of the numbers.\n",
    "    \"\"\"\n",
    "    return sum(numbers) / len(numbers) if numbers else 0\n",
    "\n",
    "def find_maximum(numbers):\n",
    "    \"\"\"\n",
    "    Find the maximum value in a list of numbers.\n",
    "    :param numbers: List of numerical values.\n",
    "    :return: Maximum value.\n",
    "    \"\"\"\n",
    "    return max(numbers)\n",
    "\n",
    "def find_minimum(numbers):\n",
    "    \"\"\"\n",
    "    Find the minimum value in a list of numbers.\n",
    "    :param numbers: List of numerical values.\n",
    "    :return: Minimum value.\n",
    "    \"\"\"\n",
    "    return min(numbers)\n",
    "\n",
    "def main():\n",
    "    print(\"Mathematical Operations on a List of Numbers\")\n",
    "    print(\"1. Sum\")\n",
    "    print(\"2. Average\")\n",
    "    print(\"3. Maximum\")\n",
    "    print(\"4. Minimum\")\n",
    "    \n",
    "    try:\n",
    "        choice = int(input(\"Choose an operation (1-4): \"))\n",
    "        numbers = input(\"Enter a list of numbers separated by spaces: \")\n",
    "        numbers = [float(num) for num in numbers.split()]\n",
    "        \n",
    "        if not numbers:\n",
    "            raise ValueError(\"The list cannot be empty.\")\n",
    "        \n",
    "        if choice == 1:\n",
    "            result = calculate_sum(numbers)\n",
    "        elif choice == 2:\n",
    "            result = calculate_average(numbers)\n",
    "        elif choice == 3:\n",
    "            result = find_maximum(numbers)\n",
    "        elif choice == 4:\n",
    "            result = find_minimum(numbers)\n",
    "        else:\n",
    "            print(\"Invalid choice. Please select 1, 2, 3, or 4.\")\n",
    "            return\n",
    "        \n",
    "        print(f\"Result: {result}\")\n",
    "    except ValueError as e:\n",
    "        print(f\"Error: {e}. Please enter valid input.\")\n",
    "    except Exception as e:\n",
    "        print(f\"Unexpected error: {e}\")\n",
    "\n",
    "if __name__ == \"__main__\":\n",
    "    main()\n"
   ]
  },
  {
   "cell_type": "markdown",
   "id": "81950f08",
   "metadata": {},
   "source": [
    "# 4.2 Exercise on List Manipulation:\n"
   ]
  },
  {
   "cell_type": "markdown",
   "id": "eabc6213",
   "metadata": {},
   "source": [
    "# 1. Extract Every Other Element:\n",
    "Write a Python function that extracts every other element from a list, starting from the first element.\n",
    "\n",
    "• Requirements:\n",
    "\n",
    "– Define a function extract every other(lst) that takes a list lst as input and returns a\n",
    "new list containing every other element from the original list.\n",
    "\n",
    "– Example: For the input [1, 2, 3, 4, 5, 6], the output should be [1, 3, 5]."
   ]
  },
  {
   "cell_type": "code",
   "execution_count": 1,
   "id": "786dafbc",
   "metadata": {},
   "outputs": [
    {
     "name": "stdout",
     "output_type": "stream",
     "text": [
      "[1, 3, 5]\n"
     ]
    }
   ],
   "source": [
    "def extract_every_other(lst):\n",
    "    return lst[::2]\n",
    "\n",
    "input_list = [1, 2, 3, 4, 5, 6]\n",
    "output_list = extract_every_other(input_list)\n",
    "print(output_list)  "
   ]
  },
  {
   "cell_type": "markdown",
   "id": "0151dc8c",
   "metadata": {},
   "source": [
    "# 2. Slice a Sublist:\n",
    "Write a Python function that returns a sublist from a given list, starting from a specified index and\n",
    "ending at another specified index.\n",
    "\n",
    "• Requirements:\n",
    "\n",
    "– Define a function get sublist(lst, start, end) that takes a list lst, a starting index \n",
    "start, and an ending index end as input and returns the sublist from start to end (inclusive).\n",
    "\n",
    "– Example: For the input [1, 2, 3, 4, 5, 6] with start=2 and end=4, the output should\n",
    "be [3, 4, 5]."
   ]
  },
  {
   "cell_type": "code",
   "execution_count": 2,
   "id": "e9a99f9d",
   "metadata": {},
   "outputs": [
    {
     "name": "stdout",
     "output_type": "stream",
     "text": [
      "[3, 4, 5]\n"
     ]
    }
   ],
   "source": [
    "def get_sublist(lst, start, end):\n",
    "    return lst[start:end+1]\n",
    "\n",
    "\n",
    "input_list = [1, 2, 3, 4, 5, 6]\n",
    "start_index = 2\n",
    "end_index = 4\n",
    "output_list = get_sublist(input_list, start_index, end_index)\n",
    "print(output_list) "
   ]
  },
  {
   "cell_type": "markdown",
   "id": "15f4793c",
   "metadata": {},
   "source": [
    "# 3. Reverse a List Using Slicing:\n",
    "Write a Python function that reverses a list using slicing.\n",
    "\n",
    "• Requirements:\n",
    "\n",
    "– Define a function reverse list(lst) that takes a list lst and returns a reversed list using\n",
    "slicing.\n",
    "\n",
    "– Example: For the input [1, 2, 3, 4, 5], the output should be [5, 4, 3, 2, 1]."
   ]
  },
  {
   "cell_type": "code",
   "execution_count": 3,
   "id": "2e593ea6",
   "metadata": {},
   "outputs": [
    {
     "name": "stdout",
     "output_type": "stream",
     "text": [
      "[5, 4, 3, 2, 1]\n"
     ]
    }
   ],
   "source": [
    "def reverse_list(lst):\n",
    "    return lst[::-1]\n",
    "\n",
    "input_list = [1, 2, 3, 4, 5]\n",
    "output_list = reverse_list(input_list)\n",
    "print(output_list)  "
   ]
  },
  {
   "cell_type": "markdown",
   "id": "fe7da036",
   "metadata": {},
   "source": [
    "# 4. Remove the First and Last Elements:\n",
    "Write a Python function that removes the first and last elements of a list and returns the resulting\n",
    "sublist.\n",
    "\n",
    "• Requirements:\n",
    "\n",
    "– Define a function remove first last(lst) that takes a list lst and returns a sublist without\n",
    "the first and last elements using slicing.\n",
    "\n",
    "– Example: For the input [1, 2, 3, 4, 5], the output should be [2, 3, 4]."
   ]
  },
  {
   "cell_type": "code",
   "execution_count": 5,
   "id": "6c3324d4",
   "metadata": {},
   "outputs": [
    {
     "name": "stdout",
     "output_type": "stream",
     "text": [
      "[2, 3, 4]\n"
     ]
    }
   ],
   "source": [
    "def remove_first_last(lst):\n",
    "    return lst[1:-1]\n",
    "\n",
    "\n",
    "input_list = [1, 2, 3, 4, 5]\n",
    "output_list = remove_first_last(input_list)\n",
    "print(output_list)  "
   ]
  },
  {
   "cell_type": "markdown",
   "id": "57d31a4e",
   "metadata": {},
   "source": [
    "# 5. Get the First n Elements:\n",
    "Write a Python function that extracts the first n elements from a list.\n",
    "\n",
    "• Requirements:\n",
    "\n",
    "– Define a function get first n(lst, n) that takes a list lst and an integer n as input and\n",
    "returns the first n elements of the list using slicing.\n",
    "\n",
    "– Example: For the input [1, 2, 3, 4, 5] with n=3, the output should be [1, 2, 3]."
   ]
  },
  {
   "cell_type": "code",
   "execution_count": 6,
   "id": "e764e0ad",
   "metadata": {},
   "outputs": [
    {
     "name": "stdout",
     "output_type": "stream",
     "text": [
      "[1, 2, 3]\n"
     ]
    }
   ],
   "source": [
    "def get_first_n(lst, n):\n",
    "    return lst[:n]\n",
    "\n",
    "input_list = [1, 2, 3, 4, 5]\n",
    "n = 3\n",
    "output_list = get_first_n(input_list, n)\n",
    "print(output_list) "
   ]
  },
  {
   "cell_type": "markdown",
   "id": "1e4f817e",
   "metadata": {},
   "source": [
    "# 6. Extract Elements from the End:\n",
    "Write a Python function that extracts the last n elements of a list using slicing.\n",
    "\n",
    "• Requirements:\n",
    "\n",
    "– Define a function get last n(lst, n) that takes a list lst and an integer n as input and\n",
    "returns the last n elements of the list.\n",
    "\n",
    "– Example: For the input [1, 2, 3, 4, 5] with n=2, the output should be [4, 5]."
   ]
  },
  {
   "cell_type": "code",
   "execution_count": 8,
   "id": "3561da8f",
   "metadata": {},
   "outputs": [
    {
     "name": "stdout",
     "output_type": "stream",
     "text": [
      "[3, 4, 5]\n"
     ]
    }
   ],
   "source": [
    "def get_last_n(lst, n):\n",
    "    return lst[-n:]\n",
    "\n",
    "input_list = [1, 2, 3, 4, 5]\n",
    "n = 3\n",
    "output_list = get_last_n(input_list, n)\n",
    "print(output_list)  "
   ]
  },
  {
   "cell_type": "markdown",
   "id": "eb9c99e4",
   "metadata": {},
   "source": [
    "# 7. Extract Elements in Reverse Order:\n",
    "Write a Python function that extracts a list of elements in reverse order starting from the second-to-last\n",
    "element and skipping one element in between.\n",
    "\n",
    "• Requirements:\n",
    "\n",
    "– Define a function reverse skip(lst) that takes a list lst and returns a new list containing\n",
    "every second element starting from the second-to-last, moving backward.\n",
    "\n",
    "– Example: For the input [1, 2, 3, 4, 5, 6], the output should be [5, 3, 1]."
   ]
  },
  {
   "cell_type": "code",
   "execution_count": 14,
   "id": "6f39fd5b",
   "metadata": {},
   "outputs": [
    {
     "name": "stdout",
     "output_type": "stream",
     "text": [
      "[5, 3, 1]\n"
     ]
    }
   ],
   "source": [
    "def reverse_skip(lst):\n",
    "\n",
    "    return lst[-2::-2]\n",
    "\n",
    "\n",
    "input_list = [1, 2, 3, 4, 5, 6]\n",
    "output_list = reverse_skip(input_list)\n",
    "print(output_list) "
   ]
  },
  {
   "cell_type": "markdown",
   "id": "c0ea409c",
   "metadata": {},
   "source": [
    "# 4.3 Exercise on Nested List:"
   ]
  },
  {
   "cell_type": "markdown",
   "id": "431a2f1b",
   "metadata": {},
   "source": [
    "# 1. Flatten a Nested List:\n",
    "Write a Python function that takes a nested list and flattens it into a single list, where all the elements\n",
    "are in a single dimension.\n",
    "\n",
    "• Requirements:\n",
    "\n",
    "– Define a function flatten(lst) that takes a nested list lst and returns a flattened version\n",
    "of the list.\n",
    "\n",
    "– Example: For the input [[1, 2], [3, 4], [5]], the output should be [1, 2, 3, 4, 5]."
   ]
  },
  {
   "cell_type": "code",
   "execution_count": 11,
   "id": "1f35c63b",
   "metadata": {},
   "outputs": [
    {
     "name": "stdout",
     "output_type": "stream",
     "text": [
      "[5, 3, 1]\n"
     ]
    }
   ],
   "source": [
    "def reverse_skip(lst):\n",
    "    return lst[-2::-2]\n",
    "\n",
    "input_list = [1, 2, 3, 4, 5, 6]\n",
    "output_list = reverse_skip(input_list)\n",
    "print(output_list)  "
   ]
  },
  {
   "cell_type": "markdown",
   "id": "84f517c4",
   "metadata": {},
   "source": [
    "# 2. Accessing Nested List Elements:\n",
    "Write a Python function that extracts a specific element from a nested list given its indices.\n",
    "\n",
    "• Requirements:\n",
    "\n",
    "– Define a function access nested element(lst, indices) that takes a nested list lst and\n",
    "a list of indices indices, and returns the element at that position.\n",
    "\n",
    "– Example: For the input lst = [[1, 2, 3], [4, 5, 6], [7, 8, 9]] with indices = [1,\n",
    "2], the output should be 6."
   ]
  },
  {
   "cell_type": "code",
   "execution_count": 12,
   "id": "f4d2b1e2",
   "metadata": {},
   "outputs": [
    {
     "name": "stdout",
     "output_type": "stream",
     "text": [
      "6\n"
     ]
    }
   ],
   "source": [
    "def access_nested_element(lst, indices):\n",
    "    current = lst\n",
    "    for index in indices:\n",
    "        current = current[index]\n",
    "    return current\n",
    "\n",
    "lst = [[1, 2, 3], [4, 5, 6], [7, 8, 9]]\n",
    "indices = [1, 2]\n",
    "output = access_nested_element(lst, indices)\n",
    "print(output) "
   ]
  },
  {
   "cell_type": "markdown",
   "id": "0730dee8",
   "metadata": {},
   "source": [
    "# 3. Sum of All Elements in a Nested List:\n",
    "Write a Python function that calculates the sum of all the numbers in a nested list (regardless of depth).\n",
    "\n",
    "• Requirements:\n",
    "\n",
    "– Define a function sum nested(lst) that takes a nested list lst and returns the sum of all\n",
    "the elements.\n",
    "\n",
    "– Example: For the input [[1, 2], [3, [4, 5]], 6], the output should be 21."
   ]
  },
  {
   "cell_type": "code",
   "execution_count": 13,
   "id": "da1ed322",
   "metadata": {},
   "outputs": [
    {
     "name": "stdout",
     "output_type": "stream",
     "text": [
      "21\n"
     ]
    }
   ],
   "source": [
    "def sum_nested(lst):\n",
    "    total = 0\n",
    "    for element in lst:\n",
    "     \n",
    "        if isinstance(element, list):\n",
    "            total += sum_nested(element)\n",
    "        else:\n",
    "            \n",
    "            total += element\n",
    "    return total\n",
    "\n",
    "input_list = [[1, 2], [3, [4, 5]], 6]\n",
    "output = sum_nested(input_list)\n",
    "print(output) "
   ]
  },
  {
   "cell_type": "markdown",
   "id": "b5646798",
   "metadata": {},
   "source": [
    "# 4. Remove Specific Element from a Nested List:\n",
    "Write a Python function that removes all occurrences of a specific element from a nested list.\n",
    "\n",
    "• Requirements:\n",
    "\n",
    "– Define a function remove element(lst, elem) that removes elem from lst and returns the\n",
    "modified list.\n",
    "\n",
    "– Example: For the input lst = [[1, 2], [3, 2], [4, 5]] and elem = 2, the output should\n",
    "be [[1], [3], [4, 5]]."
   ]
  },
  {
   "cell_type": "code",
   "execution_count": 16,
   "id": "9cc3c34c",
   "metadata": {},
   "outputs": [
    {
     "name": "stdout",
     "output_type": "stream",
     "text": [
      "[[1], [3], [4, 5]]\n"
     ]
    }
   ],
   "source": [
    "def remove_element(lst, elem):\n",
    "    result = []\n",
    "    for item in lst:\n",
    "   \n",
    "        if isinstance(item, list):\n",
    "            result.append(remove_element(item, elem))\n",
    "        else:\n",
    "           \n",
    "            if item != elem:\n",
    "                result.append(item)\n",
    "    return result\n",
    "\n",
    "input_list = [[1, 2], [3, 2], [4, 5]]\n",
    "elem = 2\n",
    "output_list = remove_element(input_list, elem)\n",
    "print(output_list)  "
   ]
  },
  {
   "cell_type": "markdown",
   "id": "b3f7e7d6",
   "metadata": {},
   "source": [
    "# 5. Find the Maximum Element in a Nested List:\n",
    "Write a Python function that finds the maximum element in a nested list (regardless of depth).\n",
    "\n",
    "• Requirements:\n",
    "\n",
    "– Define a function find max(lst) that takes a nested list lst and returns the maximum\n",
    "element.\n",
    "\n",
    "– Example: For the input [[1, 2], [3, [4, 5]], 6], the output should be 6."
   ]
  },
  {
   "cell_type": "code",
   "execution_count": 17,
   "id": "07de6331",
   "metadata": {},
   "outputs": [
    {
     "name": "stdout",
     "output_type": "stream",
     "text": [
      "6\n"
     ]
    }
   ],
   "source": [
    "def find_max(lst):\n",
    "    max_val = None  \n",
    "    for item in lst:\n",
    "     \n",
    "        if isinstance(item, list):\n",
    "            nested_max = find_max(item)\n",
    "     \n",
    "            if max_val is None or nested_max > max_val:\n",
    "                max_val = nested_max\n",
    "        else:\n",
    "\n",
    "            if max_val is None or item > max_val:\n",
    "                max_val = item\n",
    "    return max_val\n",
    "\n",
    "input_list = [[1, 2], [3, [4, 5]], 6]\n",
    "output = find_max(input_list)\n",
    "print(output)"
   ]
  },
  {
   "cell_type": "markdown",
   "id": "f5e737c3",
   "metadata": {},
   "source": [
    "# 6. Count Occurrences of an Element in a Nested List:\n",
    "Write a Python function that counts how many times a specific element appears in a nested list.\n",
    "\n",
    "• Requirements:\n",
    "\n",
    "– Define a function count occurrences(lst, elem) that counts the occurrences of elem in\n",
    "the nested list lst.\n",
    "\n",
    "– Example: For the input lst = [[1, 2], [2, 3], [2, 4]] and elem = 2, the output should\n",
    "be 3."
   ]
  },
  {
   "cell_type": "code",
   "execution_count": 21,
   "id": "0c1fe23c",
   "metadata": {},
   "outputs": [
    {
     "name": "stdout",
     "output_type": "stream",
     "text": [
      "4\n"
     ]
    }
   ],
   "source": [
    "def count_occurrences(lst, elem):\n",
    "    count = 0 \n",
    "    for item in lst:\n",
    "       \n",
    "        if isinstance(item, list):\n",
    "            count += count_occurrences(item, elem)\n",
    "        else:\n",
    "          \n",
    "            if item == elem:\n",
    "                count += 1\n",
    "    return count\n",
    "\n",
    "input_list = [[1, 2], [2, 3], [2, 4], [2,6]]\n",
    "elem = 2\n",
    "output = count_occurrences(input_list, elem)\n",
    "print(output)  "
   ]
  },
  {
   "cell_type": "markdown",
   "id": "ab1c2c89",
   "metadata": {},
   "source": [
    "# 7. Flatten a List of Lists of Lists:\n",
    "Write a Python function that flattens a list of lists of lists into a single list, regardless of the depth.\n",
    "\n",
    "• Requirements:\n",
    "\n",
    "– Define a function deep flatten(lst) that takes a deeply nested list lst and returns a single\n",
    "flattened list.\n",
    "\n",
    "– Example: For the input [[[1, 2], [3, 4]], [[5, 6], [7, 8]]], the output should be\n",
    "[1, 2, 3, 4, 5, 6, 7, 8]."
   ]
  },
  {
   "cell_type": "code",
   "execution_count": 20,
   "id": "116000cc",
   "metadata": {},
   "outputs": [
    {
     "name": "stdout",
     "output_type": "stream",
     "text": [
      "[1, 2, 3, 4, 5, 6, 7, 8]\n"
     ]
    }
   ],
   "source": [
    "def deep_flatten(lst):\n",
    "    flattened = []  \n",
    "    for item in lst:\n",
    "        \n",
    "        if isinstance(item, list):\n",
    "            flattened.extend(deep_flatten(item))\n",
    "        else:\n",
    "          \n",
    "            flattened.append(item)\n",
    "    return flattened\n",
    "\n",
    "input_list = [[[1, 2], [3, 4]], [[5, 6], [7, 8]]]\n",
    "output_list = deep_flatten(input_list)\n",
    "print(output_list) "
   ]
  },
  {
   "cell_type": "markdown",
   "id": "3e25ff6c",
   "metadata": {},
   "source": [
    "# 8. Nested List Average:\n",
    "Write a Python function that calculates the average of all elements in a nested list.\n",
    "\n",
    "• Requirements:\n",
    "\n",
    "– Define a function average nested(lst) that takes a nested list lst and returns the average\n",
    "of all the elements.\n",
    "\n",
    "– Example: For the input [[1, 2], [3, 4], [5, 6]], the output should be 3.5."
   ]
  },
  {
   "cell_type": "code",
   "execution_count": 22,
   "id": "cc575834",
   "metadata": {},
   "outputs": [
    {
     "name": "stdout",
     "output_type": "stream",
     "text": [
      "3.5\n"
     ]
    }
   ],
   "source": [
    "def average_nested(lst):\n",
    "    total_sum = 0  \n",
    "    total_count = 0  \n",
    "\n",
    "    def recursive_helper(lst):\n",
    "        nonlocal total_sum, total_count\n",
    "        for item in lst:\n",
    "          \n",
    "            if isinstance(item, list):\n",
    "                recursive_helper(item)\n",
    "            else:\n",
    "            \n",
    "                total_sum += item\n",
    "                total_count += 1\n",
    "\n",
    "    recursive_helper(lst)\n",
    "\n",
    " \n",
    "    return total_sum / total_count if total_count > 0 else 0\n",
    "\n",
    "input_list = [[1, 2], [3, 4], [5, 6]]\n",
    "output = average_nested(input_list)\n",
    "print(output)  "
   ]
  },
  {
   "cell_type": "markdown",
   "id": "229b9f4f",
   "metadata": {},
   "source": [
    "# 10 To - Do - NumPy"
   ]
  },
  {
   "cell_type": "markdown",
   "id": "02732794",
   "metadata": {},
   "source": [
    "# 10.1 Basic Vector and Matrix Operation with Numpy"
   ]
  },
  {
   "cell_type": "markdown",
   "id": "ba5e38e0",
   "metadata": {},
   "source": [
    "\n",
    "# Problem - 1: Array Creation:\n",
    "\n",
    "Complete the following Tasks:\n",
    "1. Initialize an empty array with size 2X2.\n",
    "2. Initialize an all one array with size 4X2.\n",
    "3. Return a new array of given shape and type, filled with fill value.{Hint: np.full}\n",
    "4. Return a new array of zeros with same shape and type as a given array.{Hint: np.zeros like}\n",
    "5. Return a new array of ones with same shape and type as a given array.{Hint: np.ones like}\n",
    "6. For an existing list new_list = [1,2,3,4] convert to an numpy array.{Hint: np.array()}\n"
   ]
  },
  {
   "cell_type": "code",
   "execution_count": 20,
   "id": "84b559e3",
   "metadata": {},
   "outputs": [
    {
     "name": "stdout",
     "output_type": "stream",
     "text": [
      "1. Empty 2x2 array:\n",
      " [[1.11259940e-306 1.24610994e-306]\n",
      " [8.45590538e-307 1.11261298e-306]]\n",
      "\n",
      "2. All ones 4x2 array:\n",
      " [[1. 1.]\n",
      " [1. 1.]\n",
      " [1. 1.]\n",
      " [1. 1.]]\n",
      "\n",
      "3. Array filled with value 5:\n",
      " [[5 5 5]\n",
      " [5 5 5]\n",
      " [5 5 5]]\n",
      "\n",
      "4. Zeros array with same shape as given array:\n",
      " [[0 0]\n",
      " [0 0]]\n",
      "\n",
      "5. Ones array with same shape as given array:\n",
      " [[1 1]\n",
      " [1 1]]\n",
      "\n",
      "6. Numpy array from list:\n",
      " [1 2 3 4]\n"
     ]
    }
   ],
   "source": [
    "import numpy as np\n",
    "\n",
    "# Task 1: \n",
    "empty_array = np.empty((2, 2))\n",
    "print(\"1. Empty 2x2 array:\\n\", empty_array)\n",
    "\n",
    "# Task 2: \n",
    "ones_array = np.ones((4, 2))\n",
    "print(\"\\n2. All ones 4x2 array:\\n\", ones_array)\n",
    "\n",
    "# Task 3:\n",
    "fill_value_array = np.full((3, 3), 5) \n",
    "print(\"\\n3. Array filled with value 5:\\n\", fill_value_array)\n",
    "\n",
    "# Task 4: \n",
    "given_array = np.array([[1, 2], [3, 4]])\n",
    "zeros_like_array = np.zeros_like(given_array)\n",
    "print(\"\\n4. Zeros array with same shape as given array:\\n\", zeros_like_array)\n",
    "\n",
    "# Task 5: \n",
    "ones_like_array = np.ones_like(given_array)\n",
    "print(\"\\n5. Ones array with same shape as given array:\\n\", ones_like_array)\n",
    "\n",
    "# Task 6: \n",
    "new_list = [1, 2, 3, 4]\n",
    "numpy_array = np.array(new_list)\n",
    "print(\"\\n6. Numpy array from list:\\n\", numpy_array)"
   ]
  },
  {
   "cell_type": "markdown",
   "id": "688cee22",
   "metadata": {},
   "source": [
    "# Problem - 2: Array Manipulation: Numerical Ranges and Array indexing:\n",
    "# Complete the following tasks:\n",
    "\n",
    "1. Create an array with values ranging from 10 to 49. {Hint:np.arrange()}.\n",
    "2. Create a 3X3 matrix with values ranging from 0 to 8.\n",
    "{Hint:look for np.reshape()}\n",
    "3. Create a 3X3 identity matrix.{Hint:np.eye()}\n",
    "4. Create a random array of size 30 and find the mean of the array.\n",
    "{Hint:check for np.random.random() and array.mean() function}\n",
    "5. Create a 10X10 array with random values and find the minimum and maximum values.\n",
    "6. Create a zero array of size 10 and replace 5th element with 1.\n",
    "7. Reverse an array arr = [1,2,0,0,4,0].\n",
    "8. Create a 2d array with 1 on border and 0 inside.\n",
    "9. Create a 8X8 matrix and fill it with a checkerboard pattern."
   ]
  },
  {
   "cell_type": "code",
   "execution_count": 51,
   "id": "c792c103",
   "metadata": {},
   "outputs": [
    {
     "name": "stdout",
     "output_type": "stream",
     "text": [
      "1. Array with values from 10 to 49:\n",
      " [10 11 12 13 14 15 16 17 18 19 20 21 22 23 24 25 26 27 28 29 30 31 32 33\n",
      " 34 35 36 37 38 39 40 41 42 43 44 45 46 47 48 49]\n",
      "\n",
      "2. 3x3 matrix with values from 0 to 8:\n",
      " [[0 1 2]\n",
      " [3 4 5]\n",
      " [6 7 8]]\n",
      "\n",
      "3. 3x3 identity matrix:\n",
      " [[1. 0. 0.]\n",
      " [0. 1. 0.]\n",
      " [0. 0. 1.]]\n",
      "\n",
      "4. Random array of size 30:\n",
      " [0.22522182 0.36707231 0.48240926 0.23182361 0.9361798  0.15187375\n",
      " 0.66922125 0.6465455  0.30228207 0.58270792 0.21200838 0.00963079\n",
      " 0.90721895 0.42998632 0.27575836 0.92250921 0.81510493 0.2756411\n",
      " 0.39448844 0.64930053 0.44266439 0.33670038 0.63376488 0.06119724\n",
      " 0.62901326 0.87067481 0.31034056 0.27616536 0.41663283 0.55600024]\n",
      "Mean of the array: 0.4673379407987415\n",
      "\n",
      "5. 10x10 random array:\n",
      " [[0.9481374  0.73084204 0.6426659  0.44349586 0.11429466 0.90973653\n",
      "  0.34061329 0.93688881 0.25278753 0.16883439]\n",
      " [0.60761253 0.85632187 0.56388122 0.34400383 0.03903423 0.90474685\n",
      "  0.09717092 0.76186592 0.29105993 0.67506008]\n",
      " [0.47191934 0.34816372 0.61076919 0.90424965 0.37066958 0.77033066\n",
      "  0.42928891 0.56867673 0.70499091 0.21416164]\n",
      " [0.70746076 0.90445758 0.32826756 0.85677389 0.94410168 0.07500025\n",
      "  0.11883357 0.53998214 0.13468205 0.18143881]\n",
      " [0.99432901 0.50103404 0.37405382 0.70379993 0.35271738 0.33698465\n",
      "  0.66766481 0.99645426 0.33918245 0.93904252]\n",
      " [0.79799698 0.32665926 0.89273074 0.89026916 0.31631858 0.28453273\n",
      "  0.29508915 0.22488745 0.27777629 0.0716002 ]\n",
      " [0.81684196 0.15741602 0.98499982 0.22784857 0.71832968 0.0189864\n",
      "  0.42342266 0.26579017 0.30103633 0.8438039 ]\n",
      " [0.11078926 0.49124872 0.60119876 0.16762904 0.44925855 0.36239243\n",
      "  0.04677502 0.2171525  0.62862293 0.48492311]\n",
      " [0.19498761 0.90754245 0.0660257  0.62711244 0.74673173 0.58037462\n",
      "  0.27997332 0.71240035 0.3471994  0.59005633]\n",
      " [0.73342275 0.64566808 0.49272218 0.05949708 0.23514295 0.04475373\n",
      "  0.44033648 0.93579765 0.86066229 0.5425359 ]]\n",
      "Minimum value: 0.018986395147652435\n",
      "Maximum value: 0.9964542571723289\n",
      "\n",
      "6. Zero array with 5th element replaced by 1:\n",
      " [0. 0. 0. 0. 1. 0. 0. 0. 0. 0.]\n",
      "\n",
      "7. Reversed array:\n",
      " [0 4 0 0 2 1]\n",
      "\n",
      "8. 2D array with 1 on border and 0 inside:\n",
      " [[1. 1. 1. 1. 1.]\n",
      " [1. 0. 0. 0. 1.]\n",
      " [1. 0. 0. 0. 1.]\n",
      " [1. 0. 0. 0. 1.]\n",
      " [1. 1. 1. 1. 1.]]\n",
      "\n",
      "9. 8x8 checkerboard pattern:\n",
      " [[0 1 0 1 0 1 0 1]\n",
      " [1 0 1 0 1 0 1 0]\n",
      " [0 1 0 1 0 1 0 1]\n",
      " [1 0 1 0 1 0 1 0]\n",
      " [0 1 0 1 0 1 0 1]\n",
      " [1 0 1 0 1 0 1 0]\n",
      " [0 1 0 1 0 1 0 1]\n",
      " [1 0 1 0 1 0 1 0]]\n"
     ]
    }
   ],
   "source": [
    "import numpy as np\n",
    "\n",
    "# Task 1: \n",
    "array_range = np.arange(10, 50)\n",
    "print(\"1. Array with values from 10 to 49:\\n\", array_range)\n",
    "\n",
    "# Task 2:\n",
    "matrix_3x3 = np.arange(0, 9).reshape(3, 3)\n",
    "print(\"\\n2. 3x3 matrix with values from 0 to 8:\\n\", matrix_3x3)\n",
    "\n",
    "# Task 3: \n",
    "identity_matrix = np.eye(3)\n",
    "print(\"\\n3. 3x3 identity matrix:\\n\", identity_matrix)\n",
    "\n",
    "# Task 4: \n",
    "random_array = np.random.random(30)\n",
    "mean_value = random_array.mean()\n",
    "print(\"\\n4. Random array of size 30:\\n\", random_array)\n",
    "print(\"Mean of the array:\", mean_value)\n",
    "\n",
    "# Task 5: \n",
    "random_10x10 = np.random.random((10, 10))\n",
    "min_value = random_10x10.min()\n",
    "max_value = random_10x10.max()\n",
    "print(\"\\n5. 10x10 random array:\\n\", random_10x10)\n",
    "print(\"Minimum value:\", min_value)\n",
    "print(\"Maximum value:\", max_value)\n",
    "\n",
    "# Task 6: \n",
    "zero_array = np.zeros(10)\n",
    "zero_array[4] = 1 \n",
    "print(\"\\n6. Zero array with 5th element replaced by 1:\\n\", zero_array)\n",
    "\n",
    "# Task 7: \n",
    "arr = np.array([1, 2, 0, 0, 4, 0])\n",
    "reversed_arr = arr[::-1]\n",
    "print(\"\\n7. Reversed array:\\n\", reversed_arr)\n",
    "\n",
    "# Task 8: \n",
    "border_array = np.ones((5, 5))\n",
    "border_array[1:-1, 1:-1] = 0\n",
    "print(\"\\n8. 2D array with 1 on border and 0 inside:\\n\", border_array)\n",
    "\n",
    "# Task 9: \n",
    "checkerboard = np.zeros((8, 8), dtype=int)\n",
    "checkerboard[1::2, ::2] = 1 \n",
    "checkerboard[::2, 1::2] = 1 \n",
    "print(\"\\n9. 8x8 checkerboard pattern:\\n\", checkerboard)"
   ]
  },
  {
   "cell_type": "markdown",
   "id": "0dcc5ccd",
   "metadata": {},
   "source": [
    "# Problem - 3: Array Operations:\n",
    "For the following arrays:\n",
    "\n",
    "x = np.array([[1,2],[3,5]]) and \n",
    "\n",
    "y = np.array([[5,6],[7,8]]);\n",
    "\n",
    "v = np.array([9,10]) and\n",
    "\n",
    "w = np.array([11,12]);\n",
    "# Complete all the task using numpy:\n",
    "1. Add the two array.\n",
    "2. Subtract the two array.\n",
    "3. Multiply the array with any integers of your choice.\n",
    "4. Find the square of each element of the array.\n",
    "5. Find the dot product between: v(and)w ; x(and)v ; x(and)y.\n",
    "6. Concatenate x(and)y along row and Concatenate v(and)w along column.\n",
    "{Hint:try np.concatenate() or np.vstack() functions.\n",
    "7. Concatenate x(and)v; if you get an error, observe and explain why did you get the error?"
   ]
  },
  {
   "cell_type": "code",
   "execution_count": 29,
   "id": "b22bf907",
   "metadata": {},
   "outputs": [
    {
     "name": "stdout",
     "output_type": "stream",
     "text": [
      "1. Addition of x and y:\n",
      " [[ 6  8]\n",
      " [10 13]]\n",
      "\n",
      "2. Subtraction of x and y:\n",
      " [[-4 -4]\n",
      " [-4 -3]]\n",
      "\n",
      "3. Multiplication of x by 2:\n",
      " [[ 2  4]\n",
      " [ 6 10]]\n",
      "\n",
      "4. Square of each element of x:\n",
      " [[ 1  4]\n",
      " [ 9 25]]\n",
      "\n",
      "5. Dot products:\n",
      "Dot product of v and w: 219\n",
      "Dot product of x and v: [29 77]\n",
      "Dot product of x and y:\n",
      " [[19 22]\n",
      " [50 58]]\n",
      "\n",
      "6. Concatenation:\n",
      "Concatenate x and y along row:\n",
      " [[1 2]\n",
      " [3 5]\n",
      " [5 6]\n",
      " [7 8]]\n",
      "Concatenate v and w along column:\n",
      " [[ 9 11]\n",
      " [10 12]]\n",
      "\n",
      "7. Error when concatenating x and v: all the input arrays must have same number of dimensions, but the array at index 0 has 2 dimension(s) and the array at index 1 has 1 dimension(s)\n"
     ]
    }
   ],
   "source": [
    "import numpy as np\n",
    "\n",
    "# Given arrays\n",
    "x = np.array([[1, 2], [3, 5]])\n",
    "y = np.array([[5, 6], [7, 8]])\n",
    "v = np.array([9, 10])\n",
    "w = np.array([11, 12])\n",
    "\n",
    "# Task 1: \n",
    "add_result = x + y\n",
    "print(\"1. Addition of x and y:\\n\", add_result)\n",
    "\n",
    "# Task 2: \n",
    "subtract_result = x - y\n",
    "print(\"\\n2. Subtraction of x and y:\\n\", subtract_result)\n",
    "\n",
    "# Task 3: \n",
    "multiply_result = x * 2\n",
    "print(\"\\n3. Multiplication of x by 2:\\n\", multiply_result)\n",
    "\n",
    "# Task 4: \n",
    "square_result = x**2\n",
    "print(\"\\n4. Square of each element of x:\\n\", square_result)\n",
    "\n",
    "# Task 5:\n",
    "dot_vw = np.dot(v, w)  # Dot product of v and w\n",
    "dot_xv = np.dot(x, v)  # Dot product of x and v\n",
    "dot_xy = np.dot(x, y)  # Dot product of x and y\n",
    "print(\"\\n5. Dot products:\")\n",
    "print(\"Dot product of v and w:\", dot_vw)\n",
    "print(\"Dot product of x and v:\", dot_xv)\n",
    "print(\"Dot product of x and y:\\n\", dot_xy)\n",
    "\n",
    "# Task 6:\n",
    "concatenate_row = np.concatenate((x, y), axis=0)  \n",
    "concatenate_col = np.concatenate((v[:, np.newaxis], w[:, np.newaxis]), axis=1) \n",
    "print(\"\\n6. Concatenation:\")\n",
    "print(\"Concatenate x and y along row:\\n\", concatenate_row)\n",
    "print(\"Concatenate v and w along column:\\n\", concatenate_col)\n",
    "\n",
    "# Task 7:\n",
    "try:\n",
    "    concatenate_xv = np.concatenate((x, v))\n",
    "    print(\"\\n7. Concatenate x and v:\\n\", concatenate_xv)\n",
    "except ValueError as e:\n",
    "    print(\"\\n7. Error when concatenating x and v:\", e)"
   ]
  },
  {
   "cell_type": "markdown",
   "id": "86d42ba1",
   "metadata": {},
   "source": [
    "# Problem - 4: Matrix Operations:\n"
   ]
  },
  {
   "cell_type": "markdown",
   "id": "ed206d4d",
   "metadata": {},
   "source": [
    "# For the following arrays:\n",
    "A = np.array([[3,4],[7,8]]) and\n",
    "\n",
    "B = np.array([[5,3],[2,1]]);"
   ]
  },
  {
   "cell_type": "markdown",
   "id": "d439d384",
   "metadata": {},
   "source": [
    "# Prove following with Numpy:\n",
    "Prove A.A−1 = I.\n",
    "\n",
    "Prove AB ̸= BA.\n",
    "\n",
    "Prove (AB)T = BTAT"
   ]
  },
  {
   "cell_type": "code",
   "execution_count": 33,
   "id": "9f582b17",
   "metadata": {},
   "outputs": [
    {
     "name": "stdout",
     "output_type": "stream",
     "text": [
      "1. A.A⁻¹:\n",
      " [[1.0000000e+00 4.4408921e-16]\n",
      " [0.0000000e+00 1.0000000e+00]]\n",
      "\n",
      "2. AB:\n",
      " [[23 13]\n",
      " [51 29]]\n",
      "BA:\n",
      " [[36 44]\n",
      " [13 16]]\n",
      "Are AB and BA equal? False\n",
      "\n",
      "3. (AB)ᵀ:\n",
      " [[23 51]\n",
      " [13 29]]\n",
      "BᵀAᵀ:\n",
      " [[23 51]\n",
      " [13 29]]\n",
      "\n",
      "Are (AB)ᵀ and BᵀAᵀ equal?\n",
      " True\n"
     ]
    }
   ],
   "source": [
    "import numpy as np\n",
    "\n",
    "# Given matrices\n",
    "A = np.array([[3, 4], [7, 8]])\n",
    "B = np.array([[5, 3], [2, 1]])  \n",
    "\n",
    "# Task 1: \n",
    "try:\n",
    "    A_inv = np.linalg.inv(A)  \n",
    "    identity_check = np.dot(A, A_inv)  \n",
    "    print(\"1. A.A⁻¹:\\n\", identity_check)\n",
    "except np.linalg.LinAlgError:\n",
    "    print(\"1. A is not invertible.\")\n",
    "\n",
    "# Task 2: \n",
    "AB = np.dot(A, B)  \n",
    "BA = np.dot(B, A)  \n",
    "print(\"\\n2. AB:\\n\", AB)\n",
    "print(\"BA:\\n\", BA)\n",
    "print(\"Are AB and BA equal?\", np.array_equal(AB, BA))\n",
    "\n",
    "# Task 3: \n",
    "AB_transpose = AB.T  \n",
    "B_transpose = B.T  \n",
    "A_transpose = A.T \n",
    "BT_AT = np.dot(B_transpose, A_transpose) \n",
    "print(\"\\n3. (AB)ᵀ:\\n\", AB_transpose)\n",
    "print(\"BᵀAᵀ:\\n\", BT_AT)\n",
    "print(\"\\nAre (AB)ᵀ and BᵀAᵀ equal?\\n\", np.array_equal(AB_transpose, BT_AT))"
   ]
  },
  {
   "cell_type": "markdown",
   "id": "72cb4998",
   "metadata": {},
   "source": [
    "# Solve the following system of Linear equation using Inverse Methods.\n",
    "\n",
    "2x − 3y + z = −1\n",
    "\n",
    "x − y + 2z = −3\n",
    "\n",
    "3x + y − z = 9\n",
    "\n",
    "{Hint: First use Numpy array to represent the equation in Matrix form. Then Solve for: AX = B}"
   ]
  },
  {
   "cell_type": "code",
   "execution_count": 37,
   "id": "0407a789",
   "metadata": {},
   "outputs": [
    {
     "name": "stdout",
     "output_type": "stream",
     "text": [
      "Inverse of A:\n",
      " [[ 0.05263158  0.10526316  0.26315789]\n",
      " [-0.36842105  0.26315789  0.15789474]\n",
      " [-0.21052632  0.57894737 -0.05263158]]\n",
      "\n",
      "Solution for X (x, y, z):\n",
      " [ 2.  1. -2.]\n"
     ]
    }
   ],
   "source": [
    "import numpy as np\n",
    "\n",
    "A = np.array([\n",
    "    [2, -3, 1],\n",
    "    [1, -1, 2],\n",
    "    [3, 1, -1]\n",
    "])\n",
    "\n",
    "B = np.array([-1, -3, 9])\n",
    "\n",
    "try:\n",
    "    A_inv = np.linalg.inv(A)\n",
    "    print(\"Inverse of A:\\n\", A_inv)\n",
    "except np.linalg.LinAlgError:\n",
    "    print(\"Matrix A is not invertible.\")\n",
    "\n",
    "X = np.dot(A_inv, B)\n",
    "print(\"\\nSolution for X (x, y, z):\\n\", X)"
   ]
  },
  {
   "cell_type": "markdown",
   "id": "1b90a672",
   "metadata": {},
   "source": [
    "# 10.2 Experiment: How Fast is Numpy?"
   ]
  },
  {
   "cell_type": "markdown",
   "id": "d4e79610",
   "metadata": {},
   "source": [
    "# 1. Element-wise Addition:\n",
    "\n",
    "• Using Python Lists, perform element-wise addition of two lists of size 1, 000, 000. Measure\n",
    "and Print the time taken for this operation.\n",
    "\n",
    "• Using Numpy Arrays, Repeat the calculation and measure and print the time taken for\n",
    "this operation."
   ]
  },
  {
   "cell_type": "code",
   "execution_count": 52,
   "id": "deed6103",
   "metadata": {},
   "outputs": [
    {
     "name": "stdout",
     "output_type": "stream",
     "text": [
      "Time taken for element-wise addition using Python Lists: 0.3364694118499756 seconds\n"
     ]
    }
   ],
   "source": [
    "#Using Python List\n",
    "\n",
    "import time\n",
    "\n",
    "list1 = [i for i in range(1000000)]\n",
    "list2 = [i for i in range(1000000)]\n",
    "\n",
    "start_time = time.time()\n",
    "result_list = [a + b for a, b in zip(list1, list2)]\n",
    "end_time = time.time()\n",
    "\n",
    "print(\"Time taken for element-wise addition using Python Lists:\", end_time - start_time, \"seconds\")"
   ]
  },
  {
   "cell_type": "code",
   "execution_count": 41,
   "id": "5b118c0c",
   "metadata": {},
   "outputs": [
    {
     "name": "stdout",
     "output_type": "stream",
     "text": [
      "Time taken for element-wise addition using NumPy Arrays: 0.007975578308105469 seconds\n"
     ]
    }
   ],
   "source": [
    "# Using NumPy Arrays\n",
    "\n",
    "import numpy as np\n",
    "\n",
    "array1 = np.arange(1000000)\n",
    "array2 = np.arange(1000000)\n",
    "\n",
    "start_time = time.time()\n",
    "result_array = array1 + array2\n",
    "end_time = time.time()\n",
    "\n",
    "print(\"Time taken for element-wise addition using NumPy Arrays:\", end_time - start_time, \"seconds\")"
   ]
  },
  {
   "cell_type": "markdown",
   "id": "1ca93295",
   "metadata": {},
   "source": [
    "# 2. Element-wise Multiplication\n",
    "\n",
    "• Using Python Lists, perform element-wise multiplication of two lists of size 1, 000, 000.\n",
    "Measure and Print the time taken for this operation.\n",
    "\n",
    "• Using Numpy Arrays, Repeat the calculation and measure and print the time taken for\n",
    "this operation."
   ]
  },
  {
   "cell_type": "code",
   "execution_count": 49,
   "id": "3e8446d1",
   "metadata": {},
   "outputs": [
    {
     "name": "stdout",
     "output_type": "stream",
     "text": [
      "Time taken for element-wise multiplication using Python Lists: 0.3422269821166992 seconds\n"
     ]
    }
   ],
   "source": [
    "# Using Pyhhon Lists\n",
    "\n",
    "import time\n",
    "\n",
    "list1 = [i for i in range(1000000)]\n",
    "list2 = [i for i in range(1000000)]\n",
    "\n",
    "start_time = time.time()\n",
    "result_list = [a * b for a, b in zip(list1, list2)]\n",
    "end_time = time.time()\n",
    "\n",
    "print(\"Time taken for element-wise multiplication using Python Lists:\", end_time - start_time, \"seconds\")"
   ]
  },
  {
   "cell_type": "code",
   "execution_count": 47,
   "id": "c73a84d7",
   "metadata": {},
   "outputs": [
    {
     "name": "stdout",
     "output_type": "stream",
     "text": [
      "Time taken for element-wise multiplication using NumPy Arrays: 0.007998228073120117 seconds\n"
     ]
    }
   ],
   "source": [
    "# Using Numpy Arrays\n",
    "\n",
    "import numpy as np\n",
    "\n",
    "array1 = np.arange(1000000)\n",
    "array2 = np.arange(1000000)\n",
    "start_time = time.time()\n",
    "result_array = array1 * array2\n",
    "end_time = time.time()\n",
    "\n",
    "print(\"Time taken for element-wise multiplication using NumPy Arrays:\", end_time - start_time, \"seconds\")"
   ]
  },
  {
   "cell_type": "markdown",
   "id": "9b09ac3f",
   "metadata": {},
   "source": [
    "# Dot Product\n",
    "\n",
    "• Using Python Lists, compute the dot product of two lists of size 1, 000, 000. Measure and\n",
    "Print the time taken for this operation.\n",
    "\n",
    "• Using Numpy Arrays, Repeat the calculation and measure and print the time taken for\n",
    "this operation."
   ]
  },
  {
   "cell_type": "code",
   "execution_count": 53,
   "id": "71def104",
   "metadata": {},
   "outputs": [
    {
     "name": "stdout",
     "output_type": "stream",
     "text": [
      "Time taken for dot product using Python Lists: 0.3192880153656006 seconds\n",
      "Dot product: 333332833333500000\n"
     ]
    }
   ],
   "source": [
    "# Using Python Lists\n",
    "\n",
    "import time\n",
    "\n",
    "list1 = [i for i in range(1000000)]\n",
    "list2 = [i for i in range(1000000)]\n",
    "\n",
    "start_time = time.time()\n",
    "dot_product = sum(a * b for a, b in zip(list1, list2))\n",
    "end_time = time.time()\n",
    "print(\"Time taken for dot product using Python Lists:\", end_time - start_time, \"seconds\")\n",
    "print(\"Dot product:\", dot_product)\n"
   ]
  },
  {
   "cell_type": "code",
   "execution_count": 56,
   "id": "6d913f63",
   "metadata": {},
   "outputs": [
    {
     "name": "stdout",
     "output_type": "stream",
     "text": [
      "Time taken for dot product using NumPy Arrays: 0.0020029544830322266 seconds\n",
      "Dot product: 584144992\n"
     ]
    }
   ],
   "source": [
    "# Using Numpy Arrays\n",
    "\n",
    "import numpy as np\n",
    "\n",
    "array1 = np.arange(1000000)\n",
    "array2 = np.arange(1000000)\n",
    "\n",
    "start_time = time.time()\n",
    "dot_product = np.dot(array1, array2)\n",
    "end_time = time.time()\n",
    "\n",
    "print(\"Time taken for dot product using NumPy Arrays:\", end_time - start_time, \"seconds\")\n",
    "print(\"Dot product:\", dot_product)"
   ]
  },
  {
   "cell_type": "markdown",
   "id": "4ad03c64",
   "metadata": {},
   "source": [
    "# Matrix Multiplication\n",
    "\n",
    "• Using Python lists, perform matrix multiplication of two matrices of size 1000x1000. Measure and print the time taken for this operation.\n",
    "\n",
    "• Using NumPy arrays, perform matrix multiplication of two matrices of size 1000x1000.\n",
    "Measure and print the time taken for this operation."
   ]
  },
  {
   "cell_type": "code",
   "execution_count": 1,
   "id": "96da75e4",
   "metadata": {},
   "outputs": [
    {
     "name": "stdout",
     "output_type": "stream",
     "text": [
      "Time taken for matrix multiplication using Python Lists: 699.2445108890533 seconds\n"
     ]
    }
   ],
   "source": [
    "# Using Python Lists\n",
    "\n",
    "import time\n",
    "\n",
    "matrix1 = [[i + j for j in range(1000)] for i in range(1000)]\n",
    "matrix2 = [[i + j for j in range(1000)] for i in range(1000)]\n",
    "\n",
    "result = [[0 for _ in range(1000)] for _ in range(1000)]\n",
    "\n",
    "start_time = time.time()\n",
    "for i in range(1000):\n",
    "    for j in range(1000):\n",
    "        for k in range(1000):\n",
    "            result[i][j] += matrix1[i][k] * matrix2[k][j]\n",
    "end_time = time.time()\n",
    "\n",
    "print(\"Time taken for matrix multiplication using Python Lists:\", end_time - start_time, \"seconds\")"
   ]
  },
  {
   "cell_type": "code",
   "execution_count": 2,
   "id": "221c4e0b",
   "metadata": {},
   "outputs": [
    {
     "name": "stdout",
     "output_type": "stream",
     "text": [
      "Time taken for matrix multiplication using NumPy Arrays: 1.3137633800506592 seconds\n"
     ]
    }
   ],
   "source": [
    "import numpy as np\n",
    "\n",
    "matrix1 = np.array([[i + j for j in range(1000)] for i in range(1000)])\n",
    "matrix2 = np.array([[i + j for j in range(1000)] for i in range(1000)])\n",
    "\n",
    "start_time = time.time()\n",
    "result = np.dot(matrix1, matrix2)\n",
    "end_time = time.time()\n",
    "\n",
    "print(\"Time taken for matrix multiplication using NumPy Arrays:\", end_time - start_time, \"seconds\")"
   ]
  },
  {
   "cell_type": "code",
   "execution_count": null,
   "id": "4b9d172e",
   "metadata": {},
   "outputs": [],
   "source": []
  }
 ],
 "metadata": {
  "kernelspec": {
   "display_name": "Python 3 (ipykernel)",
   "language": "python",
   "name": "python3"
  },
  "language_info": {
   "codemirror_mode": {
    "name": "ipython",
    "version": 3
   },
   "file_extension": ".py",
   "mimetype": "text/x-python",
   "name": "python",
   "nbconvert_exporter": "python",
   "pygments_lexer": "ipython3",
   "version": "3.9.13"
  }
 },
 "nbformat": 4,
 "nbformat_minor": 5
}
